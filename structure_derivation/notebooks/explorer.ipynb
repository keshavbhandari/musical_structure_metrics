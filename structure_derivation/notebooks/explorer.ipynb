{
 "cells": [
  {
   "cell_type": "code",
   "execution_count": null,
   "metadata": {},
   "outputs": [
    {
     "name": "stderr",
     "output_type": "stream",
     "text": [
      "/mnt/data/keshav/conda_envs/structure/lib/python3.11/site-packages/tqdm/auto.py:21: TqdmWarning: IProgress not found. Please update jupyter and ipywidgets. See https://ipywidgets.readthedocs.io/en/stable/user_install.html\n",
      "  from .autonotebook import tqdm as notebook_tqdm\n",
      "/mnt/data/keshav/conda_envs/structure/lib/python3.11/site-packages/torch/functional.py:554: UserWarning: torch.meshgrid: in an upcoming release, it will be required to pass the indexing argument. (Triggered internally at /pytorch/aten/src/ATen/native/TensorShape.cpp:4322.)\n",
      "  return _VF.meshgrid(tensors, **kwargs)  # type: ignore[attr-defined]\n"
     ]
    }
   ],
   "source": [
    "from structure_derivation.model.model import StructureDerivationModel, StructureDerivationModelConfig\n",
    "import os\n",
    "import torch\n",
    "import librosa\n",
    "\n",
    "device = torch.device('cuda' if torch.cuda.is_available() else 'cpu')\n",
    "CHECKPOINTS_DIR = \"/keshav/musical_structure_metrics/structure_derivation/artifacts/structure_derivation_model/checkpoint/\"\n",
    "\n",
    "config = StructureDerivationModelConfig()\n",
    "model = StructureDerivationModel(config)\n",
    "model.to(device)\n",
    "\n",
    "ckpt = torch.load(os.path.join(CHECKPOINTS_DIR, \"checkpoint.pt\"), map_location=device)\n",
    "if \"module\" in ckpt[\"model\"]:\n",
    "    model.module.load_state_dict(ckpt[\"model\"][\"module\"])  # `.module` because of DDP\n",
    "else:\n",
    "    model.load_state_dict(ckpt[\"model\"])  # `.module` because of DDP\n",
    "\n",
    "audio_paths = [\n",
    "    '/mnt/data/music_reward/musiccaps/data/JDWPJ1AiDKc.wav',\n",
    "    '/mnt/data/music_reward/musiccaps/data/JDWPJ1AiDKc.wav'\n",
    "]\n",
    "\n",
    "# Example input\n",
    "audio, sr = librosa.load(audio_paths[0], sr=32000, mono=True)\n",
    "\n",
    "audio_tensor = torch.tensor(audio).unsqueeze(0).to(device)  # (1, T)\n",
    "model.eval()\n",
    "with torch.no_grad():\n",
    "    output = model(audio_tensor, infer_mode=True)\n",
    "\n",
    "print(output['latent_output'].shape)  # Example output key"
   ]
  },
  {
   "cell_type": "code",
   "execution_count": 1,
   "metadata": {},
   "outputs": [
    {
     "name": "stderr",
     "output_type": "stream",
     "text": [
      "/mnt/data/keshav/conda_envs/structure/lib/python3.11/site-packages/tqdm/auto.py:21: TqdmWarning: IProgress not found. Please update jupyter and ipywidgets. See https://ipywidgets.readthedocs.io/en/stable/user_install.html\n",
      "  from .autonotebook import tqdm as notebook_tqdm\n",
      "/mnt/data/keshav/conda_envs/structure/lib/python3.11/site-packages/torch/functional.py:554: UserWarning: torch.meshgrid: in an upcoming release, it will be required to pass the indexing argument. (Triggered internally at /pytorch/aten/src/ATen/native/TensorShape.cpp:4322.)\n",
      "  return _VF.meshgrid(tensors, **kwargs)  # type: ignore[attr-defined]\n"
     ]
    },
    {
     "name": "stdout",
     "output_type": "stream",
     "text": [
      "Split into 31 segments of 5s each.\n",
      "Embeddings shape: torch.Size([31, 768])\n",
      "Cosine similarities with S1: [0.86841476 0.6153427  0.40927917 0.352422   0.5193686  0.36905724\n",
      " 0.40563023 0.47217578 0.751181   0.50920165 0.46983656 0.2635488\n",
      " 0.26710814 0.27426744 0.27518922 0.31274518 0.24528386 0.31121287\n",
      " 0.42605114 0.40733093 0.36269268 0.34492853 0.24020256 0.38971105\n",
      " 0.31441623 0.38691163 0.24710664 0.24856237 0.30020675 0.37190536]\n",
      "Average similarity with S1: 0.39104307\n"
     ]
    }
   ],
   "source": [
    "import librosa\n",
    "import os\n",
    "import torch\n",
    "import torch.nn.functional as F\n",
    "from structure_derivation.model.model import StructureDerivationModel, StructureDerivationModelConfig\n",
    "\n",
    "# device = torch.device('cuda' if torch.cuda.is_available() else 'cpu')\n",
    "device = torch.device('cpu')\n",
    "\n",
    "def load_model(ckpt_path, device):\n",
    "    config = StructureDerivationModelConfig()\n",
    "    model = StructureDerivationModel(config)\n",
    "    model.to(device)\n",
    "\n",
    "    ckpt = torch.load(ckpt_path, map_location=device)\n",
    "    if \"module\" in ckpt[\"model\"]:\n",
    "        model.module.load_state_dict(ckpt[\"model\"][\"module\"])  # DDP checkpoint\n",
    "    else:\n",
    "        model.load_state_dict(ckpt[\"model\"])\n",
    "    model.eval()\n",
    "    return model\n",
    "\n",
    "def split_audio(audio_path, segment_seconds=10, target_sr=32000):\n",
    "    \"\"\"Load audio and split into N non-overlapping segments of segment_seconds each.\"\"\"\n",
    "    audio, sr = librosa.load(audio_path, sr=target_sr, mono=True)\n",
    "    segment_len = segment_seconds * target_sr\n",
    "    total_len = len(audio)\n",
    "    segments = []\n",
    "    for start in range(0, total_len, segment_len):\n",
    "        end = start + segment_len\n",
    "        if end <= total_len:\n",
    "            segments.append(audio[start:end])\n",
    "    return segments, sr\n",
    "\n",
    "def compute_embeddings(model, segments, device):\n",
    "    \"\"\"Pass each segment through the model to get latent_output embeddings.\"\"\"\n",
    "    embeddings = []\n",
    "    for seg in segments:\n",
    "        seg_tensor = torch.tensor(seg, dtype=torch.float32).unsqueeze(0).to(device)  # (1, T)\n",
    "        with torch.no_grad():\n",
    "            out = model(seg_tensor, infer_mode=True)\n",
    "        embeddings.append(out[\"latent_output\"])  # (1, D)\n",
    "    return torch.cat(embeddings, dim=0)  # (N, D)\n",
    "\n",
    "def compute_similarities(embeddings):\n",
    "    \"\"\"Cosine similarity between first segment and all others.\"\"\"\n",
    "    ref = embeddings[0].unsqueeze(0)  # (1, D)\n",
    "    sims = F.cosine_similarity(ref, embeddings[1:], dim=1)  # (N-1,)\n",
    "    return sims.cpu().numpy()\n",
    "\n",
    "# ----------------- Usage -----------------\n",
    "CHECKPOINTS_DIR = \"/keshav/musical_structure_metrics/structure_derivation/artifacts/structure_derivation_model/checkpoint/\"\n",
    "ckpt_path = os.path.join(CHECKPOINTS_DIR, \"checkpoint.pt\")\n",
    "\n",
    "model = load_model(ckpt_path, device)\n",
    "\n",
    "audio_path = '/mnt/data/marble/mtg_jamendo/mtg-jamendo-dataset/data/raw_30s_audio/99/6699.mp3'\n",
    "segments, sr = split_audio(audio_path, segment_seconds=10, target_sr=32000)\n",
    "print(f\"Split into {len(segments)} segments.\")\n",
    "\n",
    "embeddings = compute_embeddings(model, segments, device)\n",
    "print(\"Embeddings shape:\", embeddings.shape)  # (N, D)\n",
    "\n",
    "similarities = compute_similarities(embeddings)\n",
    "print(\"Cosine similarities with S1:\", similarities)\n",
    "\n",
    "# Average similarity\n",
    "avg_sim = similarities.mean()\n",
    "print(\"Average similarity with S1:\", avg_sim)\n"
   ]
  }
 ],
 "metadata": {
  "kernelspec": {
   "display_name": "structure",
   "language": "python",
   "name": "python3"
  },
  "language_info": {
   "codemirror_mode": {
    "name": "ipython",
    "version": 3
   },
   "file_extension": ".py",
   "mimetype": "text/x-python",
   "name": "python",
   "nbconvert_exporter": "python",
   "pygments_lexer": "ipython3",
   "version": "3.11.13"
  }
 },
 "nbformat": 4,
 "nbformat_minor": 2
}
