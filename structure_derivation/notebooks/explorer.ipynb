{
 "cells": [
  {
   "cell_type": "code",
   "execution_count": null,
   "metadata": {},
   "outputs": [
    {
     "name": "stderr",
     "output_type": "stream",
     "text": [
      "/mnt/data/keshav/conda_envs/structure/lib/python3.11/site-packages/tqdm/auto.py:21: TqdmWarning: IProgress not found. Please update jupyter and ipywidgets. See https://ipywidgets.readthedocs.io/en/stable/user_install.html\n",
      "  from .autonotebook import tqdm as notebook_tqdm\n",
      "/mnt/data/keshav/conda_envs/structure/lib/python3.11/site-packages/torch/functional.py:554: UserWarning: torch.meshgrid: in an upcoming release, it will be required to pass the indexing argument. (Triggered internally at /pytorch/aten/src/ATen/native/TensorShape.cpp:4322.)\n",
      "  return _VF.meshgrid(tensors, **kwargs)  # type: ignore[attr-defined]\n"
     ]
    }
   ],
   "source": [
    "from structure_derivation.model.model import StructureDerivationModel, StructureDerivationModelConfig\n",
    "import os\n",
    "import torch\n",
    "import librosa\n",
    "\n",
    "device = torch.device('cuda' if torch.cuda.is_available() else 'cpu')\n",
    "CHECKPOINTS_DIR = \"/keshav/musical_structure_metrics/structure_derivation/artifacts/structure_derivation_model/checkpoint/\"\n",
    "\n",
    "config = StructureDerivationModelConfig()\n",
    "model = StructureDerivationModel(config)\n",
    "model.to(device)\n",
    "\n",
    "ckpt = torch.load(os.path.join(CHECKPOINTS_DIR, \"checkpoint.pt\"), map_location=device)\n",
    "if \"module\" in ckpt[\"model\"]:\n",
    "    model.module.load_state_dict(ckpt[\"model\"][\"module\"])  # `.module` because of DDP\n",
    "else:\n",
    "    model.load_state_dict(ckpt[\"model\"])  # `.module` because of DDP\n",
    "\n",
    "audio_paths = [\n",
    "    '/mnt/data/music_reward/musiccaps/data/JDWPJ1AiDKc.wav',\n",
    "    '/mnt/data/music_reward/musiccaps/data/JDWPJ1AiDKc.wav'\n",
    "]\n",
    "\n",
    "# Example input\n",
    "audio, sr = librosa.load(audio_paths[0], sr=32000, mono=True)\n",
    "\n",
    "audio_tensor = torch.tensor(audio).unsqueeze(0).to(device)  # (1, T)\n",
    "model.eval()\n",
    "with torch.no_grad():\n",
    "    output = model(audio_tensor, infer_mode=True)\n",
    "\n",
    "print(output['latent_output'].shape)  # Example output key"
   ]
  },
  {
   "cell_type": "code",
   "execution_count": 2,
   "metadata": {},
   "outputs": [
    {
     "name": "stdout",
     "output_type": "stream",
     "text": [
      "Split into 24 segments.\n",
      "Embeddings shape: torch.Size([24, 768])\n",
      "Cosine similarities with S1: [0.49996632 0.49005872 0.530892   0.39764658 0.41397092 0.4780046\n",
      " 0.47594923 0.41005087 0.4875069  0.38399807 0.4577372  0.48997647\n",
      " 0.4386139  0.45407566 0.45616674 0.4551477  0.4112865  0.48017648\n",
      " 0.44371143 0.48575637 0.57440317 0.6562359  0.6762432 ]\n",
      "Average Structure Derivation similarity with S1: 0.4803293\n",
      "Vendi score: 2.595095\n"
     ]
    }
   ],
   "source": [
    "import librosa\n",
    "import os\n",
    "import numpy as np\n",
    "import torch\n",
    "import torch.nn.functional as F\n",
    "from structure_derivation.model.model import StructureDerivationModel, StructureDerivationModelConfig\n",
    "from vendi_score import vendi\n",
    "\n",
    "# device = torch.device('cuda' if torch.cuda.is_available() else 'cpu')\n",
    "device = torch.device('cpu')\n",
    "\n",
    "def load_model(ckpt_path, device):\n",
    "    config = StructureDerivationModelConfig()\n",
    "    model = StructureDerivationModel(config)\n",
    "    model.to(device)\n",
    "\n",
    "    ckpt = torch.load(ckpt_path, map_location=device)\n",
    "    if \"module\" in ckpt[\"model\"]:\n",
    "        model.module.load_state_dict(ckpt[\"model\"][\"module\"])  # DDP checkpoint\n",
    "    else:\n",
    "        model.load_state_dict(ckpt[\"model\"])\n",
    "    model.eval()\n",
    "    return model\n",
    "\n",
    "def split_audio(audio_path, segment_seconds=10, target_sr=32000):\n",
    "    \"\"\"Load audio and split into N non-overlapping segments of segment_seconds each.\"\"\"\n",
    "    audio, sr = librosa.load(audio_path, sr=target_sr, mono=True)\n",
    "    segment_len = segment_seconds * target_sr\n",
    "    total_len = len(audio)\n",
    "    segments = []\n",
    "    for start in range(0, total_len, segment_len):\n",
    "        end = start + segment_len\n",
    "        if end <= total_len:\n",
    "            segments.append(audio[start:end])\n",
    "    return segments, sr\n",
    "\n",
    "def compute_embeddings(model, segments, device):\n",
    "    \"\"\"Pass each segment through the model to get latent_output embeddings.\"\"\"\n",
    "    embeddings = []\n",
    "    for seg in segments:\n",
    "        seg_tensor = torch.tensor(seg, dtype=torch.float32).unsqueeze(0).to(device)  # (1, T)\n",
    "        with torch.no_grad():\n",
    "            out = model(seg_tensor, infer_mode=True)\n",
    "        embeddings.append(out[\"latent_output\"])  # (1, D)\n",
    "    return torch.cat(embeddings, dim=0)  # (N, D)\n",
    "\n",
    "def compute_structure_derivation(embeddings):\n",
    "    \"\"\"Cosine similarity between first segment and all others.\"\"\"\n",
    "    ref = embeddings[0].unsqueeze(0)  # (1, D)\n",
    "    sims = F.cosine_similarity(ref, embeddings[1:], dim=1)  # (N-1,)\n",
    "    return sims.cpu().numpy()\n",
    "\n",
    "def compute_vendi(embeddings):\n",
    "    \"\"\"Compute cosine similarity matrix between all embeddings.\"\"\"\n",
    "    norm_emb = F.normalize(embeddings, p=2, dim=1)  # (N, D)\n",
    "    sim_matrix = torch.matmul(norm_emb, norm_emb.T)  # (N, N)\n",
    "    sim_matrix = sim_matrix.cpu().numpy()\n",
    "    vendi_score = vendi.score_K(sim_matrix)\n",
    "    return vendi_score\n",
    "\n",
    "\n",
    "# ----------------- Usage -----------------\n",
    "CHECKPOINTS_DIR = \"/keshav/musical_structure_metrics/structure_derivation/artifacts/structure_derivation_model/checkpoint/\"\n",
    "ckpt_path = os.path.join(CHECKPOINTS_DIR, \"checkpoint.pt\")\n",
    "\n",
    "model = load_model(ckpt_path, device)\n",
    "\n",
    "audio_path = '/mnt/data/marble/mtg_jamendo/mtg-jamendo-dataset/data/raw_30s_audio/91/1092591.mp3'\n",
    "segments, sr = split_audio(audio_path, segment_seconds=10, target_sr=32000)\n",
    "print(f\"Split into {len(segments)} segments.\")\n",
    "\n",
    "embeddings = compute_embeddings(model, segments, device)\n",
    "print(\"Embeddings shape:\", embeddings.shape)  # (N, D)\n",
    "\n",
    "similarities = compute_structure_derivation(embeddings)\n",
    "print(\"Cosine similarities with S1:\", similarities)\n",
    "\n",
    "# Average Structure Derivation score\n",
    "avg_structure_derivation = similarities.mean()\n",
    "print(\"Average Structure Derivation similarity with S1:\", avg_structure_derivation)\n",
    "\n",
    "# Vendi score\n",
    "vendi_score = compute_vendi(embeddings)\n",
    "print(\"Vendi score:\", vendi_score)\n"
   ]
  },
  {
   "cell_type": "code",
   "execution_count": 1,
   "metadata": {},
   "outputs": [
    {
     "data": {
      "text/plain": [
       "2"
      ]
     },
     "execution_count": 1,
     "metadata": {},
     "output_type": "execute_result"
    }
   ],
   "source": [
    "1+1"
   ]
  }
 ],
 "metadata": {
  "kernelspec": {
   "display_name": "structure",
   "language": "python",
   "name": "python3"
  },
  "language_info": {
   "codemirror_mode": {
    "name": "ipython",
    "version": 3
   },
   "file_extension": ".py",
   "mimetype": "text/x-python",
   "name": "python",
   "nbconvert_exporter": "python",
   "pygments_lexer": "ipython3",
   "version": "3.11.13"
  }
 },
 "nbformat": 4,
 "nbformat_minor": 2
}
