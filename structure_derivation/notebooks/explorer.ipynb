{
 "cells": [
  {
   "cell_type": "code",
   "execution_count": null,
   "metadata": {},
   "outputs": [
    {
     "name": "stderr",
     "output_type": "stream",
     "text": [
      "/mnt/data/keshav/conda_envs/structure/lib/python3.11/site-packages/tqdm/auto.py:21: TqdmWarning: IProgress not found. Please update jupyter and ipywidgets. See https://ipywidgets.readthedocs.io/en/stable/user_install.html\n",
      "  from .autonotebook import tqdm as notebook_tqdm\n",
      "/mnt/data/keshav/conda_envs/structure/lib/python3.11/site-packages/torch/functional.py:554: UserWarning: torch.meshgrid: in an upcoming release, it will be required to pass the indexing argument. (Triggered internally at /pytorch/aten/src/ATen/native/TensorShape.cpp:4322.)\n",
      "  return _VF.meshgrid(tensors, **kwargs)  # type: ignore[attr-defined]\n"
     ]
    }
   ],
   "source": [
    "from structure_derivation.model.model import StructureDerivationModel, StructureDerivationModelConfig\n",
    "import os\n",
    "import torch\n",
    "import librosa\n",
    "\n",
    "device = torch.device('cuda' if torch.cuda.is_available() else 'cpu')\n",
    "CHECKPOINTS_DIR = \"/keshav/musical_structure_metrics/structure_derivation/artifacts/structure_derivation_model/checkpoint/\"\n",
    "\n",
    "config = StructureDerivationModelConfig()\n",
    "model = StructureDerivationModel(config)\n",
    "model.to(device)\n",
    "\n",
    "ckpt = torch.load(os.path.join(CHECKPOINTS_DIR, \"checkpoint.pt\"), map_location=device)\n",
    "if \"module\" in ckpt[\"model\"]:\n",
    "    model.module.load_state_dict(ckpt[\"model\"][\"module\"])  # `.module` because of DDP\n",
    "else:\n",
    "    model.load_state_dict(ckpt[\"model\"])  # `.module` because of DDP\n",
    "\n",
    "audio_paths = [\n",
    "    '/mnt/data/music_reward/musiccaps/data/JDWPJ1AiDKc.wav',\n",
    "    '/mnt/data/music_reward/musiccaps/data/JDWPJ1AiDKc.wav'\n",
    "]\n",
    "\n",
    "# Example input\n",
    "audio, sr = librosa.load(audio_paths[0], sr=32000, mono=True)\n",
    "\n",
    "audio_tensor = torch.tensor(audio).unsqueeze(0).to(device)  # (1, T)\n",
    "model.eval()\n",
    "with torch.no_grad():\n",
    "    output = model(audio_tensor, infer_mode=True)\n",
    "\n",
    "print(output['latent_output'].shape)  # Example output key"
   ]
  },
  {
   "cell_type": "code",
   "execution_count": 1,
   "metadata": {},
   "outputs": [
    {
     "name": "stderr",
     "output_type": "stream",
     "text": [
      "/mnt/data/keshav/conda_envs/structure/lib/python3.11/site-packages/tqdm/auto.py:21: TqdmWarning: IProgress not found. Please update jupyter and ipywidgets. See https://ipywidgets.readthedocs.io/en/stable/user_install.html\n",
      "  from .autonotebook import tqdm as notebook_tqdm\n",
      "/mnt/data/keshav/conda_envs/structure/lib/python3.11/site-packages/torch/functional.py:554: UserWarning: torch.meshgrid: in an upcoming release, it will be required to pass the indexing argument. (Triggered internally at /pytorch/aten/src/ATen/native/TensorShape.cpp:4322.)\n",
      "  return _VF.meshgrid(tensors, **kwargs)  # type: ignore[attr-defined]\n"
     ]
    },
    {
     "name": "stdout",
     "output_type": "stream",
     "text": [
      "Split into 24 segments.\n",
      "Embeddings shape: torch.Size([24, 768])\n",
      "Cosine similarities with S1: [0.52317435 0.50659543 0.5110918  0.39754653 0.3822517  0.4601025\n",
      " 0.47347623 0.41313756 0.5016664  0.3899931  0.4722015  0.46710354\n",
      " 0.42274976 0.42616975 0.4232423  0.45664036 0.41684464 0.5037488\n",
      " 0.43335164 0.47571242 0.5043582  0.5803537  0.6478833 ]\n",
      "Average Structure Derivation similarity with S1: 0.4691042\n",
      "Vendi score: 2.6937397\n"
     ]
    }
   ],
   "source": [
    "import librosa\n",
    "import os\n",
    "import numpy as np\n",
    "import torch\n",
    "import torch.nn.functional as F\n",
    "from structure_derivation.model.model import StructureDerivationModel, StructureDerivationModelConfig\n",
    "from vendi_score import vendi\n",
    "\n",
    "device = torch.device('cuda' if torch.cuda.is_available() else 'cpu')\n",
    "# device = torch.device('cpu')\n",
    "\n",
    "def load_model(ckpt_path, device):\n",
    "    config = StructureDerivationModelConfig()\n",
    "    model = StructureDerivationModel(config)\n",
    "    model.to(device)\n",
    "\n",
    "    ckpt = torch.load(ckpt_path, map_location=device)\n",
    "    if \"module\" in ckpt[\"model\"]:\n",
    "        model.module.load_state_dict(ckpt[\"model\"][\"module\"])  # DDP checkpoint\n",
    "    else:\n",
    "        model.load_state_dict(ckpt[\"model\"])\n",
    "    model.eval()\n",
    "    return model\n",
    "\n",
    "def split_audio(audio_path, segment_seconds=10, target_sr=32000):\n",
    "    \"\"\"Load audio and split into N non-overlapping segments of segment_seconds each.\"\"\"\n",
    "    audio, sr = librosa.load(audio_path, sr=target_sr, mono=True)\n",
    "    segment_len = segment_seconds * target_sr\n",
    "    total_len = len(audio)\n",
    "    segments = []\n",
    "    for start in range(0, total_len, segment_len):\n",
    "        end = start + segment_len\n",
    "        if end <= total_len:\n",
    "            segments.append(audio[start:end])\n",
    "    return segments, sr\n",
    "\n",
    "def compute_embeddings(model, segments, device):\n",
    "    \"\"\"Pass each segment through the model to get latent_output embeddings.\"\"\"\n",
    "    embeddings = []\n",
    "    for seg in segments:\n",
    "        seg_tensor = torch.tensor(seg, dtype=torch.float32).unsqueeze(0).to(device)  # (1, T)\n",
    "        with torch.no_grad():\n",
    "            out = model(seg_tensor, infer_mode=True)\n",
    "        embeddings.append(out[\"latent_output\"])  # (1, D)\n",
    "    return torch.cat(embeddings, dim=0)  # (N, D)\n",
    "\n",
    "def compute_structure_derivation(embeddings):\n",
    "    \"\"\"Cosine similarity between first segment and all others.\"\"\"\n",
    "    ref = embeddings[0].unsqueeze(0)  # (1, D)\n",
    "    sims = F.cosine_similarity(ref, embeddings[1:], dim=1)  # (N-1,)\n",
    "    return sims.cpu().numpy()\n",
    "\n",
    "def compute_vendi(embeddings):\n",
    "    \"\"\"Compute cosine similarity matrix between all embeddings.\"\"\"\n",
    "    norm_emb = F.normalize(embeddings, p=2, dim=1)  # (N, D)\n",
    "    sim_matrix = torch.matmul(norm_emb, norm_emb.T)  # (N, N)\n",
    "    sim_matrix = sim_matrix.cpu().numpy()\n",
    "    vendi_score = vendi.score_K(sim_matrix)\n",
    "    return vendi_score\n",
    "\n",
    "\n",
    "# ----------------- Usage -----------------\n",
    "CHECKPOINTS_DIR = \"/keshav/musical_structure_metrics/structure_derivation/artifacts/structure_derivation_model/checkpoint/\"\n",
    "ckpt_path = os.path.join(CHECKPOINTS_DIR, \"checkpoint.pt\")\n",
    "\n",
    "model = load_model(ckpt_path, device)\n",
    "\n",
    "audio_path = '/mnt/data/marble/mtg_jamendo/mtg-jamendo-dataset/data/raw_30s_audio/91/1092591.mp3'\n",
    "segments, sr = split_audio(audio_path, segment_seconds=10, target_sr=32000)\n",
    "print(f\"Split into {len(segments)} segments.\")\n",
    "\n",
    "embeddings = compute_embeddings(model, segments, device)\n",
    "print(\"Embeddings shape:\", embeddings.shape)  # (N, D)\n",
    "\n",
    "similarities = compute_structure_derivation(embeddings)\n",
    "print(\"Cosine similarities with S1:\", similarities)\n",
    "\n",
    "# Average Structure Derivation score\n",
    "avg_structure_derivation = similarities.mean()\n",
    "print(\"Average Structure Derivation similarity with S1:\", avg_structure_derivation)\n",
    "\n",
    "# Vendi score\n",
    "vendi_score = compute_vendi(embeddings)\n",
    "print(\"Vendi score:\", vendi_score)\n"
   ]
  },
  {
   "cell_type": "code",
   "execution_count": 1,
   "metadata": {},
   "outputs": [
    {
     "name": "stderr",
     "output_type": "stream",
     "text": [
      "/mnt/data/keshav/conda_envs/structure/lib/python3.11/site-packages/tqdm/auto.py:21: TqdmWarning: IProgress not found. Please update jupyter and ipywidgets. See https://ipywidgets.readthedocs.io/en/stable/user_install.html\n",
      "  from .autonotebook import tqdm as notebook_tqdm\n",
      "/mnt/data/keshav/conda_envs/structure/lib/python3.11/site-packages/torch/functional.py:554: UserWarning: torch.meshgrid: in an upcoming release, it will be required to pass the indexing argument. (Triggered internally at /pytorch/aten/src/ATen/native/TensorShape.cpp:4322.)\n",
      "  return _VF.meshgrid(tensors, **kwargs)  # type: ignore[attr-defined]\n"
     ]
    }
   ],
   "source": [
    "from structure_derivation.model.model import StructureDerivationModel, StructureDerivationModelConfig\n",
    "import os\n",
    "import torch\n",
    "\n",
    "def load_model(ckpt_path, device):\n",
    "    config = StructureDerivationModelConfig()\n",
    "    model = StructureDerivationModel(config)\n",
    "    model.to(device)\n",
    "\n",
    "    ckpt = torch.load(ckpt_path, map_location=device)\n",
    "    if \"module\" in ckpt[\"model\"]:\n",
    "        model.module.load_state_dict(ckpt[\"model\"][\"module\"])  # DDP checkpoint\n",
    "    else:\n",
    "        model.load_state_dict(ckpt[\"model\"])\n",
    "    model.eval()\n",
    "    return model\n",
    "\n",
    "device = torch.device('cuda:1' if torch.cuda.is_available() else 'cpu')\n",
    "CHECKPOINTS_DIR = \"/keshav/musical_structure_metrics/structure_derivation/artifacts/structure_derivation_model/checkpoint/\"\n",
    "ckpt_path = os.path.join(CHECKPOINTS_DIR, \"checkpoint.pt\")\n",
    "config = StructureDerivationModelConfig()\n",
    "config.auto_map = {\n",
    "    \"AutoConfig\": \"structure_derivation.model.model.StructureDerivationModelConfig\",\n",
    "    \"AutoModel\": \"structure_derivation.model.model.StructureDerivationModel\"\n",
    "}\n",
    "model = load_model(ckpt_path, device)\n",
    "\n",
    "model.save_pretrained(\"/keshav/musical_structure_metrics/structure_derivation/artifacts/structure_derivation_model/huggingface/\")\n",
    "config.save_pretrained(\"/keshav/musical_structure_metrics/structure_derivation/artifacts/structure_derivation_model/huggingface/\")"
   ]
  },
  {
   "cell_type": "code",
   "execution_count": 2,
   "metadata": {},
   "outputs": [],
   "source": [
    "from structure_derivation.model.model import StructureDerivationModel, StructureDerivationModelConfig\n",
    "\n",
    "model = StructureDerivationModel.from_pretrained(\"/keshav/musical_structure_metrics/structure_derivation/artifacts/structure_derivation_model/huggingface/\")\n",
    "config = StructureDerivationModelConfig.from_pretrained(\"/keshav/musical_structure_metrics/structure_derivation/artifacts/structure_derivation_model/huggingface/\")"
   ]
  },
  {
   "cell_type": "code",
   "execution_count": null,
   "metadata": {},
   "outputs": [
    {
     "name": "stderr",
     "output_type": "stream",
     "text": [
      "Processing Files (1 / 1): 100%|██████████|  121MB /  121MB, 28.5MB/s  \n",
      "New Data Upload: |          |  0.00B /  0.00B,  0.00B/s  \n"
     ]
    },
    {
     "data": {
      "text/plain": [
       "CommitInfo(commit_url='https://huggingface.co/keshavbhandari/Structure-Derivation/commit/127f7747c57dc7d6703670ef6fc31b808e374ce9', commit_message='Upload model', commit_description='', oid='127f7747c57dc7d6703670ef6fc31b808e374ce9', pr_url=None, repo_url=RepoUrl('https://huggingface.co/keshavbhandari/Structure-Derivation', endpoint='https://huggingface.co', repo_type='model', repo_id='keshavbhandari/Structure-Derivation'), pr_revision=None, pr_num=None)"
      ]
     },
     "execution_count": 3,
     "metadata": {},
     "output_type": "execute_result"
    }
   ],
   "source": [
    "from huggingface_hub import login\n",
    "\n",
    "# Login to Hugging Face Hub using CLI: `huggingface-cli login`\n",
    "# Replace 'your_huggingface_token' with your actual Hugging Face token\n",
    "login(token=\"YOUR_HUGGINGFACE_TOKEN\")\n",
    "\n",
    "model.push_to_hub(\"keshavbhandari/Structure-Derivation\")\n",
    "config.push_to_hub(\"keshavbhandari/Structure-Derivation\")"
   ]
  },
  {
   "cell_type": "code",
   "execution_count": null,
   "metadata": {},
   "outputs": [],
   "source": [
    "from structure_derivation.model.model import StructureDerivationModel\n",
    "\n",
    "model = StructureDerivationModel.from_pretrained(\n",
    "    \"keshavbhandari/structure-derivation\"\n",
    ")"
   ]
  },
  {
   "cell_type": "code",
   "execution_count": 5,
   "metadata": {},
   "outputs": [
    {
     "name": "stdout",
     "output_type": "stream",
     "text": [
      "Split into 24 segments.\n",
      "Embeddings shape: torch.Size([24, 768])\n",
      "Cosine similarities with S1: [0.52317435 0.50659543 0.5110919  0.39754656 0.38225168 0.46010253\n",
      " 0.47347632 0.41313758 0.5016665  0.38999307 0.47220153 0.46710354\n",
      " 0.42274985 0.42616975 0.42324224 0.45664036 0.41684467 0.50374883\n",
      " 0.43335167 0.4757125  0.5043582  0.5803536  0.6478831 ]\n",
      "Average Structure Derivation similarity with S1: 0.4691042\n",
      "Vendi score: 2.693742\n"
     ]
    }
   ],
   "source": [
    "import librosa\n",
    "import os\n",
    "import numpy as np\n",
    "import torch\n",
    "import torch.nn.functional as F\n",
    "from vendi_score import vendi\n",
    "\n",
    "# device = torch.device('cuda' if torch.cuda.is_available() else 'cpu')\n",
    "device = torch.device('cpu')\n",
    "\n",
    "def split_audio(audio_path, segment_seconds=10, target_sr=32000):\n",
    "    \"\"\"Load audio and split into N non-overlapping segments of segment_seconds each.\"\"\"\n",
    "    audio, sr = librosa.load(audio_path, sr=target_sr, mono=True)\n",
    "    segment_len = segment_seconds * target_sr\n",
    "    total_len = len(audio)\n",
    "    segments = []\n",
    "    for start in range(0, total_len, segment_len):\n",
    "        end = start + segment_len\n",
    "        if end <= total_len:\n",
    "            segments.append(audio[start:end])\n",
    "    return segments, sr\n",
    "\n",
    "def compute_embeddings(model, segments, device):\n",
    "    \"\"\"Pass each segment through the model to get latent_output embeddings.\"\"\"\n",
    "    embeddings = []\n",
    "    for seg in segments:\n",
    "        seg_tensor = torch.tensor(seg, dtype=torch.float32).unsqueeze(0).to(device)  # (1, T)\n",
    "        with torch.no_grad():\n",
    "            out = model(seg_tensor, infer_mode=True)\n",
    "        embeddings.append(out[\"latent_output\"])  # (1, D)\n",
    "    return torch.cat(embeddings, dim=0)  # (N, D)\n",
    "\n",
    "def compute_structure_derivation(embeddings):\n",
    "    \"\"\"Cosine similarity between first segment and all others.\"\"\"\n",
    "    ref = embeddings[0].unsqueeze(0)  # (1, D)\n",
    "    sims = F.cosine_similarity(ref, embeddings[1:], dim=1)  # (N-1,)\n",
    "    return sims.cpu().numpy()\n",
    "\n",
    "def compute_vendi(embeddings):\n",
    "    \"\"\"Compute cosine similarity matrix between all embeddings.\"\"\"\n",
    "    norm_emb = F.normalize(embeddings, p=2, dim=1)  # (N, D)\n",
    "    sim_matrix = torch.matmul(norm_emb, norm_emb.T)  # (N, N)\n",
    "    sim_matrix = sim_matrix.cpu().numpy()\n",
    "    vendi_score = vendi.score_K(sim_matrix)\n",
    "    return vendi_score\n",
    "\n",
    "# Check with loaded model from Hugging Face\n",
    "audio_path = '/mnt/data/marble/mtg_jamendo/mtg-jamendo-dataset/data/raw_30s_audio/91/1092591.mp3'\n",
    "device = torch.device('cpu')\n",
    "segments, sr = split_audio(audio_path, segment_seconds=10, target_sr=32000)\n",
    "print(f\"Split into {len(segments)} segments.\")\n",
    "\n",
    "embeddings = compute_embeddings(model, segments, device)\n",
    "print(\"Embeddings shape:\", embeddings.shape)  # (N, D)\n",
    "\n",
    "similarities = compute_structure_derivation(embeddings)\n",
    "print(\"Cosine similarities with S1:\", similarities)\n",
    "\n",
    "# Average Structure Derivation score\n",
    "avg_structure_derivation = similarities.mean()\n",
    "print(\"Average Structure Derivation similarity with S1:\", avg_structure_derivation)\n",
    "\n",
    "# Vendi score\n",
    "vendi_score = compute_vendi(embeddings)\n",
    "print(\"Vendi score:\", vendi_score)"
   ]
  }
 ],
 "metadata": {
  "kernelspec": {
   "display_name": "structure",
   "language": "python",
   "name": "python3"
  },
  "language_info": {
   "codemirror_mode": {
    "name": "ipython",
    "version": 3
   },
   "file_extension": ".py",
   "mimetype": "text/x-python",
   "name": "python",
   "nbconvert_exporter": "python",
   "pygments_lexer": "ipython3",
   "version": "3.11.13"
  }
 },
 "nbformat": 4,
 "nbformat_minor": 2
}
